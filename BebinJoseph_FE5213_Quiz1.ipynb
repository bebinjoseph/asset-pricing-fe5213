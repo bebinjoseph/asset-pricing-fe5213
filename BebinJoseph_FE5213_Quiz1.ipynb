{
 "cells": [
  {
   "cell_type": "markdown",
   "id": "92504d2b-b9d1-4cb7-b209-3de068453b95",
   "metadata": {},
   "source": [
    "### $\\textbf{QUIZ 1}$ \n",
    "\n",
    "##### Date: February 23, 2024\n",
    "\n",
    "<br>\n",
    "\n",
    "There are two questions in this quiz. Please answer each part carefully. \n",
    "\n",
    "Partial credit can be earned with correct derivations even if final answer has flaws.\n",
    "\n",
    "Please rename your Jupyter Notebook file as \"Name_FE5213_Quiz1\" (e.g., ZhongxiZheng_FE5213_Quiz1) and submit your Jupyter Notebook file to Canvas > Assignment Folder.\n",
    "\n",
    "\n",
    "<br>\n",
    "\n",
    "---"
   ]
  },
  {
   "cell_type": "markdown",
   "id": "c466cf09-d747-4819-9424-76273bd31981",
   "metadata": {
    "tags": []
   },
   "source": [
    "##### $\\textbf{Question 1}$ \n",
    "\n",
    "Suppose that a stock price at time $t$ obeys:\n",
    "\n",
    "$$\n",
    "\\begin{align}\n",
    "p_t & = d_t + \\beta_t p_{t+1}, \\qquad t = 0, 1, \\dots, T,\n",
    "\\end{align}\\tag{1}\n",
    "$$\n",
    "\n",
    "where $d_t$ is the dividend at time $t$ and $p_t$ is the price of stock at time $t$.\n",
    "\n",
    "Let $T+1$ denote an integer date in which the company files for a bankruptcy, and let $p_{T+1}$ be the stock price at this date. \n",
    "\n",
    "Here, the integer $T$ is such that $T>20$ and the discount factor is described by:\n",
    "\n",
    "$$\n",
    "\\begin{align}\n",
    "\\beta_t & =\n",
    "\\begin{cases}\n",
    "\\beta_1, \\qquad t = 0, 1, \\dots, 15, \\\\ \n",
    "\\beta_2, \\qquad t = 16, 17, 18, \\\\\n",
    "\\beta_3, \\qquad t = 19, 20, \\dots, T-1, \\\\\n",
    "\\beta_T, \\qquad t = T.\n",
    "\\end{cases}\n",
    "\\end{align}    \n",
    "$$\n",
    "\n",
    "where $\\beta_1, \\beta_2, \\beta_3, \\beta_T \\in (0,1)$.\n",
    "\n",
    "<br>\n",
    "\n",
    "\n",
    "$\\textbf{a. }$ Please write a matrix equation\n",
    "\n",
    "$$\n",
    "A y = a + b\n",
    "$$ \n",
    "\n",
    "that represents equations in (1) for $t=0,1,\\dots,T$. Here, we note that:\n",
    "* $A$ is a $(T+1)\\times(T+1)$ matrix;\n",
    "* $y$, $a$, $b$ are each  $(T+1)$ vectors.\n",
    "\n",
    "Please map the sequences $\\{p_t\\}_{t=0}^T$, $\\{d_t\\}_{t=0}^T$, and the scalar $p_{T+1}$ into matrix $A$ and vectors $y$, $a$, and $b$. **Please do this part analytically and show formulas.**\n",
    "\n",
    "$\\textbf{b. }$ Please write a Python program that takes $T$, $p_{T+1}$, $\\{d_t\\}_{t=0}^T$ as inputs and forms $A$, $a$, and $b$.\n",
    "\n",
    "$\\textbf{c. }$ Please write a Python code to compute $A^{-1}$.\n",
    "\n",
    "$\\textbf{d. }$ Please use the formula $y = A^{-1}(a+b)$ to compute $\\{p_t\\}_{t=0}^T$ in Python. \n",
    "\n",
    "$\\textbf{e. }$ Please write a Python program to compute $\\{p_t\\}_{t=0}^T$ when $T=25$, $p_{T+1}=1$, $d_t = (1+g)^t d_0$, $d_0=1$, $ g=0.025$, $\\beta_1=0.9$, $\\beta_2=0.95$, $\\beta_3=0.99$, $\\beta_T = 0.9$.\n",
    "\n",
    "$\\textbf{f. }$ Please repeat part $\\textbf{e. }$ when $\\beta_1=\\beta_2=\\beta_3=\\beta_T=0.95$. What differences do you observe in the pattern of $\\{p_t\\}_{t=0}^T$?\n",
    "\n",
    "<br>\n",
    "\n"
   ]
  },
  {
   "cell_type": "markdown",
   "id": "c091efd9-9076-4397-b6fa-ff22ba61753a",
   "metadata": {},
   "source": [
    "##### Solution for Q1(a) -- you may choose to type out your solutions here or on a piece of paper. \n",
    "\n",
    "\n",
    "\n",
    "\n"
   ]
  },
  {
   "cell_type": "code",
   "execution_count": 8,
   "id": "7aab258d-90b5-48f7-86c6-cc206d23e148",
   "metadata": {},
   "outputs": [],
   "source": [
    " \n",
    "import numpy as np\n",
    "import matplotlib.pyplot as plt\n",
    " "
   ]
  },
  {
   "cell_type": "code",
   "execution_count": 20,
   "id": "901a6c72-bd7f-4066-a301-96fe30380a0d",
   "metadata": {},
   "outputs": [
    {
     "data": {
      "text/plain": [
       "array([[ 1. , -0.9,  0. ,  0. ,  0. ,  0. ,  0. ,  0. ,  0. ,  0. ,  0. ,\n",
       "         0. ,  0. ,  0. ,  0. ,  0. ,  0. ,  0. ,  0. ,  0. ,  0. ],\n",
       "       [ 0. ,  1. , -0.9,  0. ,  0. ,  0. ,  0. ,  0. ,  0. ,  0. ,  0. ,\n",
       "         0. ,  0. ,  0. ,  0. ,  0. ,  0. ,  0. ,  0. ,  0. ,  0. ],\n",
       "       [ 0. ,  0. ,  1. , -0.9,  0. ,  0. ,  0. ,  0. ,  0. ,  0. ,  0. ,\n",
       "         0. ,  0. ,  0. ,  0. ,  0. ,  0. ,  0. ,  0. ,  0. ,  0. ],\n",
       "       [ 0. ,  0. ,  0. ,  1. , -0.9,  0. ,  0. ,  0. ,  0. ,  0. ,  0. ,\n",
       "         0. ,  0. ,  0. ,  0. ,  0. ,  0. ,  0. ,  0. ,  0. ,  0. ],\n",
       "       [ 0. ,  0. ,  0. ,  0. ,  1. , -0.9,  0. ,  0. ,  0. ,  0. ,  0. ,\n",
       "         0. ,  0. ,  0. ,  0. ,  0. ,  0. ,  0. ,  0. ,  0. ,  0. ],\n",
       "       [ 0. ,  0. ,  0. ,  0. ,  0. ,  1. , -0.9,  0. ,  0. ,  0. ,  0. ,\n",
       "         0. ,  0. ,  0. ,  0. ,  0. ,  0. ,  0. ,  0. ,  0. ,  0. ],\n",
       "       [ 0. ,  0. ,  0. ,  0. ,  0. ,  0. ,  1. , -0.9,  0. ,  0. ,  0. ,\n",
       "         0. ,  0. ,  0. ,  0. ,  0. ,  0. ,  0. ,  0. ,  0. ,  0. ],\n",
       "       [ 0. ,  0. ,  0. ,  0. ,  0. ,  0. ,  0. ,  1. , -0.9,  0. ,  0. ,\n",
       "         0. ,  0. ,  0. ,  0. ,  0. ,  0. ,  0. ,  0. ,  0. ,  0. ],\n",
       "       [ 0. ,  0. ,  0. ,  0. ,  0. ,  0. ,  0. ,  0. ,  1. , -0.9,  0. ,\n",
       "         0. ,  0. ,  0. ,  0. ,  0. ,  0. ,  0. ,  0. ,  0. ,  0. ],\n",
       "       [ 0. ,  0. ,  0. ,  0. ,  0. ,  0. ,  0. ,  0. ,  0. ,  1. , -0.9,\n",
       "         0. ,  0. ,  0. ,  0. ,  0. ,  0. ,  0. ,  0. ,  0. ,  0. ],\n",
       "       [ 0. ,  0. ,  0. ,  0. ,  0. ,  0. ,  0. ,  0. ,  0. ,  0. ,  1. ,\n",
       "        -0.9,  0. ,  0. ,  0. ,  0. ,  0. ,  0. ,  0. ,  0. ,  0. ],\n",
       "       [ 0. ,  0. ,  0. ,  0. ,  0. ,  0. ,  0. ,  0. ,  0. ,  0. ,  0. ,\n",
       "         1. , -0.9,  0. ,  0. ,  0. ,  0. ,  0. ,  0. ,  0. ,  0. ],\n",
       "       [ 0. ,  0. ,  0. ,  0. ,  0. ,  0. ,  0. ,  0. ,  0. ,  0. ,  0. ,\n",
       "         0. ,  1. , -0.9,  0. ,  0. ,  0. ,  0. ,  0. ,  0. ,  0. ],\n",
       "       [ 0. ,  0. ,  0. ,  0. ,  0. ,  0. ,  0. ,  0. ,  0. ,  0. ,  0. ,\n",
       "         0. ,  0. ,  1. , -0.9,  0. ,  0. ,  0. ,  0. ,  0. ,  0. ],\n",
       "       [ 0. ,  0. ,  0. ,  0. ,  0. ,  0. ,  0. ,  0. ,  0. ,  0. ,  0. ,\n",
       "         0. ,  0. ,  0. ,  1. , -0.9,  0. ,  0. ,  0. ,  0. ,  0. ],\n",
       "       [ 0. ,  0. ,  0. ,  0. ,  0. ,  0. ,  0. ,  0. ,  0. ,  0. ,  0. ,\n",
       "         0. ,  0. ,  0. ,  0. ,  1. , -0.9,  0. ,  0. ,  0. ,  0. ],\n",
       "       [ 0. ,  0. ,  0. ,  0. ,  0. ,  0. ,  0. ,  0. ,  0. ,  0. ,  0. ,\n",
       "         0. ,  0. ,  0. ,  0. ,  0. ,  1. , -0.8,  0. ,  0. ,  0. ],\n",
       "       [ 0. ,  0. ,  0. ,  0. ,  0. ,  0. ,  0. ,  0. ,  0. ,  0. ,  0. ,\n",
       "         0. ,  0. ,  0. ,  0. ,  0. ,  0. ,  1. , -0.8,  0. ,  0. ],\n",
       "       [ 0. ,  0. ,  0. ,  0. ,  0. ,  0. ,  0. ,  0. ,  0. ,  0. ,  0. ,\n",
       "         0. ,  0. ,  0. ,  0. ,  0. ,  0. ,  0. ,  1. , -0.8,  0. ],\n",
       "       [ 0. ,  0. ,  0. ,  0. ,  0. ,  0. ,  0. ,  0. ,  0. ,  0. ,  0. ,\n",
       "         0. ,  0. ,  0. ,  0. ,  0. ,  0. ,  0. ,  0. ,  1. , -0.7],\n",
       "       [ 0. ,  0. ,  0. ,  0. ,  0. ,  0. ,  0. ,  0. ,  0. ,  0. ,  0. ,\n",
       "         0. ,  0. ,  0. ,  0. ,  0. ,  0. ,  0. ,  0. ,  0. ,  1. ]])"
      ]
     },
     "execution_count": 20,
     "metadata": {},
     "output_type": "execute_result"
    }
   ],
   "source": [
    "#beta1=.9\n",
    "#beta2=.8\n",
    "#beta3=.7\n",
    "A = np.zeros((T+1,T+1))\n",
    "for i in range(16):\n",
    "    for j in range(16):\n",
    "        if i == j:\n",
    "            A[i, j] = 1\n",
    "            A[i, j+1] = -beta1\n",
    "\n",
    "for i in range(16,19):\n",
    "    for j in range(16,19):\n",
    "        if i == j:\n",
    "             A[i, j] = 1\n",
    "             A[i, j+1] = -beta2\n",
    "for i in range(19,T):\n",
    "    for j in range(19,T):\n",
    "        if i == j:\n",
    "            A[i, j] = 1\n",
    "            A[i, j+1] = -beta3\n",
    "A[T,T]=1\n",
    "\n",
    "\n",
    "A\n",
    "#this is rough working"
   ]
  },
  {
   "cell_type": "code",
   "execution_count": 26,
   "id": "c3733384-ad57-426c-ba1f-bece47c19aed",
   "metadata": {
    "tags": []
   },
   "outputs": [],
   "source": [
    "# Solution for Q1(b)\n",
    "# Code\n",
    "# -- define functions\n",
    "def create_matrix_new(T, p_nationalized, div_seq, beta1, beta2,beta3,betaT):\n",
    "    #A = np.eye(T+1) + np.diag(-beta1 * np.concatenate([np.ones(16),np.zeros(T-16)]), k=1) + np.diag(-beta2 * np.concatenate([np.zeros(16),np.ones(3)]), k=1)+np.diag(-beta3 * np.concatenate([np.ones(T-20),np.zeros(T-16)]), k=1) \n",
    "    #A = np.zeros((T+1,T+1))\n",
    "    a = div_seq\n",
    "    b = np.zeros(T+1)\n",
    "    b[-1] = betaT * p_nationalized\n",
    "    A = np.zeros((T+1,T+1))\n",
    "    for i in range(16):\n",
    "        for j in range(16):\n",
    "            if i == j:\n",
    "                A[i, j] = 1\n",
    "                A[i, j+1] = -beta1\n",
    "\n",
    "    for i in range(16,19):\n",
    "        for j in range(16,19):\n",
    "            if i == j:\n",
    "                 A[i, j] = 1\n",
    "                 A[i, j+1] = -beta2\n",
    "    for i in range(19,T):\n",
    "        for j in range(19,T):\n",
    "            if i == j:\n",
    "                A[i, j] = 1\n",
    "                A[i, j+1] = -beta3\n",
    "        \n",
    "    A[T,T]=1            \n",
    "    \n",
    "        \n",
    "    a = div_seq\n",
    "    b = np.zeros(T+1)\n",
    "    b[-1] = betaT * p_nationalized\n",
    "    return A, a, b\n",
    "\n"
   ]
  },
  {
   "cell_type": "code",
   "execution_count": null,
   "id": "a60aa586-e749-4744-8a5f-67c754ce66d3",
   "metadata": {},
   "outputs": [],
   "source": []
  },
  {
   "cell_type": "code",
   "execution_count": 28,
   "id": "3c30a813-23df-4c62-88c9-947bb342745a",
   "metadata": {
    "scrolled": true
   },
   "outputs": [
    {
     "data": {
      "text/plain": [
       "array([[1.        , 0.9       , 0.81      , 0.729     , 0.6561    ,\n",
       "        0.59049   , 0.531441  , 0.4782969 , 0.43046721, 0.38742049,\n",
       "        0.34867844, 0.3138106 , 0.28242954, 0.25418658, 0.22876792,\n",
       "        0.20589113, 0.18530202, 0.14824162, 0.11859329, 0.09487463,\n",
       "        0.06641224],\n",
       "       [0.        , 1.        , 0.9       , 0.81      , 0.729     ,\n",
       "        0.6561    , 0.59049   , 0.531441  , 0.4782969 , 0.43046721,\n",
       "        0.38742049, 0.34867844, 0.3138106 , 0.28242954, 0.25418658,\n",
       "        0.22876792, 0.20589113, 0.16471291, 0.13177032, 0.10541626,\n",
       "        0.07379138],\n",
       "       [0.        , 0.        , 1.        , 0.9       , 0.81      ,\n",
       "        0.729     , 0.6561    , 0.59049   , 0.531441  , 0.4782969 ,\n",
       "        0.43046721, 0.38742049, 0.34867844, 0.3138106 , 0.28242954,\n",
       "        0.25418658, 0.22876792, 0.18301434, 0.14641147, 0.11712918,\n",
       "        0.08199042],\n",
       "       [0.        , 0.        , 0.        , 1.        , 0.9       ,\n",
       "        0.81      , 0.729     , 0.6561    , 0.59049   , 0.531441  ,\n",
       "        0.4782969 , 0.43046721, 0.38742049, 0.34867844, 0.3138106 ,\n",
       "        0.28242954, 0.25418658, 0.20334927, 0.16267941, 0.13014353,\n",
       "        0.09110047],\n",
       "       [0.        , 0.        , 0.        , 0.        , 1.        ,\n",
       "        0.9       , 0.81      , 0.729     , 0.6561    , 0.59049   ,\n",
       "        0.531441  , 0.4782969 , 0.43046721, 0.38742049, 0.34867844,\n",
       "        0.3138106 , 0.28242954, 0.22594363, 0.1807549 , 0.14460392,\n",
       "        0.10122275],\n",
       "       [0.        , 0.        , 0.        , 0.        , 0.        ,\n",
       "        1.        , 0.9       , 0.81      , 0.729     , 0.6561    ,\n",
       "        0.59049   , 0.531441  , 0.4782969 , 0.43046721, 0.38742049,\n",
       "        0.34867844, 0.3138106 , 0.25104848, 0.20083878, 0.16067103,\n",
       "        0.11246972],\n",
       "       [0.        , 0.        , 0.        , 0.        , 0.        ,\n",
       "        0.        , 1.        , 0.9       , 0.81      , 0.729     ,\n",
       "        0.6561    , 0.59049   , 0.531441  , 0.4782969 , 0.43046721,\n",
       "        0.38742049, 0.34867844, 0.27894275, 0.2231542 , 0.17852336,\n",
       "        0.12496635],\n",
       "       [0.        , 0.        , 0.        , 0.        , 0.        ,\n",
       "        0.        , 0.        , 1.        , 0.9       , 0.81      ,\n",
       "        0.729     , 0.6561    , 0.59049   , 0.531441  , 0.4782969 ,\n",
       "        0.43046721, 0.38742049, 0.30993639, 0.24794911, 0.19835929,\n",
       "        0.1388515 ],\n",
       "       [0.        , 0.        , 0.        , 0.        , 0.        ,\n",
       "        0.        , 0.        , 0.        , 1.        , 0.9       ,\n",
       "        0.81      , 0.729     , 0.6561    , 0.59049   , 0.531441  ,\n",
       "        0.4782969 , 0.43046721, 0.34437377, 0.27549901, 0.22039921,\n",
       "        0.15427945],\n",
       "       [0.        , 0.        , 0.        , 0.        , 0.        ,\n",
       "        0.        , 0.        , 0.        , 0.        , 1.        ,\n",
       "        0.9       , 0.81      , 0.729     , 0.6561    , 0.59049   ,\n",
       "        0.531441  , 0.4782969 , 0.38263752, 0.30611002, 0.24488801,\n",
       "        0.17142161],\n",
       "       [0.        , 0.        , 0.        , 0.        , 0.        ,\n",
       "        0.        , 0.        , 0.        , 0.        , 0.        ,\n",
       "        1.        , 0.9       , 0.81      , 0.729     , 0.6561    ,\n",
       "        0.59049   , 0.531441  , 0.4251528 , 0.34012224, 0.27209779,\n",
       "        0.19046845],\n",
       "       [0.        , 0.        , 0.        , 0.        , 0.        ,\n",
       "        0.        , 0.        , 0.        , 0.        , 0.        ,\n",
       "        0.        , 1.        , 0.9       , 0.81      , 0.729     ,\n",
       "        0.6561    , 0.59049   , 0.472392  , 0.3779136 , 0.30233088,\n",
       "        0.21163162],\n",
       "       [0.        , 0.        , 0.        , 0.        , 0.        ,\n",
       "        0.        , 0.        , 0.        , 0.        , 0.        ,\n",
       "        0.        , 0.        , 1.        , 0.9       , 0.81      ,\n",
       "        0.729     , 0.6561    , 0.52488   , 0.419904  , 0.3359232 ,\n",
       "        0.23514624],\n",
       "       [0.        , 0.        , 0.        , 0.        , 0.        ,\n",
       "        0.        , 0.        , 0.        , 0.        , 0.        ,\n",
       "        0.        , 0.        , 0.        , 1.        , 0.9       ,\n",
       "        0.81      , 0.729     , 0.5832    , 0.46656   , 0.373248  ,\n",
       "        0.2612736 ],\n",
       "       [0.        , 0.        , 0.        , 0.        , 0.        ,\n",
       "        0.        , 0.        , 0.        , 0.        , 0.        ,\n",
       "        0.        , 0.        , 0.        , 0.        , 1.        ,\n",
       "        0.9       , 0.81      , 0.648     , 0.5184    , 0.41472   ,\n",
       "        0.290304  ],\n",
       "       [0.        , 0.        , 0.        , 0.        , 0.        ,\n",
       "        0.        , 0.        , 0.        , 0.        , 0.        ,\n",
       "        0.        , 0.        , 0.        , 0.        , 0.        ,\n",
       "        1.        , 0.9       , 0.72      , 0.576     , 0.4608    ,\n",
       "        0.32256   ],\n",
       "       [0.        , 0.        , 0.        , 0.        , 0.        ,\n",
       "        0.        , 0.        , 0.        , 0.        , 0.        ,\n",
       "        0.        , 0.        , 0.        , 0.        , 0.        ,\n",
       "        0.        , 1.        , 0.8       , 0.64      , 0.512     ,\n",
       "        0.3584    ],\n",
       "       [0.        , 0.        , 0.        , 0.        , 0.        ,\n",
       "        0.        , 0.        , 0.        , 0.        , 0.        ,\n",
       "        0.        , 0.        , 0.        , 0.        , 0.        ,\n",
       "        0.        , 0.        , 1.        , 0.8       , 0.64      ,\n",
       "        0.448     ],\n",
       "       [0.        , 0.        , 0.        , 0.        , 0.        ,\n",
       "        0.        , 0.        , 0.        , 0.        , 0.        ,\n",
       "        0.        , 0.        , 0.        , 0.        , 0.        ,\n",
       "        0.        , 0.        , 0.        , 1.        , 0.8       ,\n",
       "        0.56      ],\n",
       "       [0.        , 0.        , 0.        , 0.        , 0.        ,\n",
       "        0.        , 0.        , 0.        , 0.        , 0.        ,\n",
       "        0.        , 0.        , 0.        , 0.        , 0.        ,\n",
       "        0.        , 0.        , 0.        , 0.        , 1.        ,\n",
       "        0.7       ],\n",
       "       [0.        , 0.        , 0.        , 0.        , 0.        ,\n",
       "        0.        , 0.        , 0.        , 0.        , 0.        ,\n",
       "        0.        , 0.        , 0.        , 0.        , 0.        ,\n",
       "        0.        , 0.        , 0.        , 0.        , 0.        ,\n",
       "        1.        ]])"
      ]
     },
     "execution_count": 28,
     "metadata": {},
     "output_type": "execute_result"
    }
   ],
   "source": [
    "# Solution for Q1(c)\n",
    "def inverseA(A):\n",
    "    inv_A = np.linalg.inv(A)\n",
    "    return inv_A\n",
    "inverseA(A)\n"
   ]
  },
  {
   "cell_type": "code",
   "execution_count": 21,
   "id": "bd8d9718-12b7-4516-8557-94f85c3119b2",
   "metadata": {
    "tags": []
   },
   "outputs": [],
   "source": [
    "# Solution for Q1(d)\n",
    "def give_price_seq(inv_A, a, b):\n",
    "    n = inv_A @ ( a + b )\n",
    "    return n\n"
   ]
  },
  {
   "cell_type": "code",
   "execution_count": 30,
   "id": "647b83bf-210c-41c8-9afe-ad623b3c065d",
   "metadata": {},
   "outputs": [
    {
     "name": "stdout",
     "output_type": "stream",
     "text": [
      "[15.33857584 15.93175094 16.53527882 17.14753202 17.76656336 18.39006345\n",
      " 19.01531321 19.63913063 20.25781134 20.86706211 21.46192655 22.03670214\n",
      " 22.58484753 23.09887912 23.57025553 23.98924881 24.3448007  23.32834328\n",
      " 22.14349996 20.77566392 18.43304417 15.93913784 13.28603561 10.46542918\n",
      "  7.46859134  4.28635494]\n"
     ]
    },
    {
     "data": {
      "image/png": "[encoded data removed]",
      "text/plain": [
       "<Figure size 640x480 with 1 Axes>"
      ]
     },
     "metadata": {},
     "output_type": "display_data"
    }
   ],
   "source": [
    "# Solution for Q1(e)\n",
    "\n",
    "# -- define parameters\n",
    "T1     = 25 \n",
    "p_end1 = 1\n",
    "beta1  = 0.9\n",
    "beta2  = 0.95\n",
    "beta3  = 0.99\n",
    "betaT  = 0.9\n",
    "g1     = 0.025\n",
    "\n",
    "d_seq2 = np.zeros(T2+1)\n",
    "d_seq2[0] = 1\n",
    "for i in range(1,T2+1):\n",
    "    d_seq2[i] = ((1+g2)**i)*d_seq2[0]\n",
    "    \n",
    "# -- obtain a solution    \n",
    "A2, a2, b2 = create_matrix_new(T2, p_end2, d_seq2, beta1, beta2,beta3,betaT)\n",
    "inv_A2   = inverseA(A2)\n",
    "p_seq2   = give_price_seq(inv_A2, a2, b2)\n",
    "print(p_seq2)\n",
    "\n",
    "# -- plot\n",
    "fig2, ax2 = plt.subplots()\n",
    "ax2.plot(range(T2+1),p_seq2, label = 'p_seq from q2')\n",
    "ax2.grid()\n",
    "ax2.legend()\n",
    "ax2.set_xlabel('time',fontsize=15)\n",
    "ax2.set_ylabel('price',fontsize=15)\n",
    "plt.show()"
   ]
  },
  {
   "cell_type": "code",
   "execution_count": 31,
   "id": "6004d0a2-bea8-4141-a1a7-5ec4f746a795",
   "metadata": {},
   "outputs": [
    {
     "name": "stdout",
     "output_type": "stream",
     "text": [
      "[25.46703905 25.75477795 26.00502942 26.21318886 26.37427775 26.48291736\n",
      " 26.53330084 26.51916337 26.43375047 26.26978424 26.0194274  25.67424502\n",
      " 25.22516385 24.66242898 23.97555772 23.15329065 22.18353945 21.05333143\n",
      " 19.74875064 18.25487517 16.5557105  14.63411873 12.4717433  10.04892904\n",
      "  7.34463714  4.33635494]\n"
     ]
    },
    {
     "data": {
      "image/png": "[encoded data removed]",
      "text/plain": [
       "<Figure size 640x480 with 1 Axes>"
      ]
     },
     "metadata": {},
     "output_type": "display_data"
    }
   ],
   "source": [
    "# Solution for Q1(f)\n",
    "# -- define parameters\n",
    "T1     = 25 \n",
    "p_end1 = 1\n",
    "beta1  = 0.95\n",
    "beta2  = 0.95\n",
    "beta3  = 0.95\n",
    "betaT  = 0.95\n",
    "g1     = 0.025\n",
    "\n",
    "d_seq2 = np.zeros(T2+1)\n",
    "d_seq2[0] = 1\n",
    "for i in range(1,T2+1):\n",
    "    d_seq2[i] = ((1+g2)**i)*d_seq2[0]\n",
    "    \n",
    "# -- obtain a solution    \n",
    "A2, a2, b2 = create_matrix_new(T2, p_end2, d_seq2, beta1, beta2,beta3,betaT)\n",
    "inv_A2   = inverseA(A2)\n",
    "p_seq2   = give_price_seq(inv_A2, a2, b2)\n",
    "print(p_seq2)\n",
    "\n",
    "# -- plot\n",
    "fig2, ax2 = plt.subplots()\n",
    "ax2.plot(range(T2+1),p_seq2, label = 'p_seq from q2')\n",
    "ax2.grid()\n",
    "ax2.legend()\n",
    "ax2.set_xlabel('time',fontsize=15)\n",
    "ax2.set_ylabel('price',fontsize=15)\n",
    "plt.show()"
   ]
  },
  {
   "cell_type": "markdown",
   "id": "bf9a3966-260d-411c-a6e8-50675691b5a9",
   "metadata": {
    "tags": []
   },
   "source": [
    "##### $\\textbf{Question 2}$ \n",
    "\n",
    "Now assume that a stock price at time $t$ obeys:\n",
    "\n",
    "$$\n",
    "\\begin{align}\n",
    "p_t & = d_t + \\beta p_{t+1}, \\qquad t = 0, 1, \\dots\n",
    "\\end{align}\\tag{2}\n",
    "$$\n",
    "\n",
    "\n",
    "\n",
    "where $\\{p_t\\}$ and $\\{d_t\\}$ are again price and dividend sequences.\n",
    "\n",
    "(Here $\\ldots$ means that time goes on forever.)\n",
    "\n",
    "The dividend process $\\{d_t\\}_{t=0}^\\infty$ is described by: \n",
    "\n",
    "$$\n",
    "d_t = G x_t, \\tag{3}\n",
    "$$\n",
    "\n",
    "for some selector vector $G$ of length $(1\\times n)$. Now, the state vector $x_t$ follows:\n",
    "\n",
    "$$\n",
    "x_{t+1} = \\underbrace{A}_{n\\times n} \\cdot \\underbrace{x_t}_{n\\times 1}.\\tag{4}\n",
    "$$\n",
    "\n",
    "\n",
    "<br>\n",
    "\n",
    "\n",
    "$\\textbf{a. }$ Suppose the sequence of $\\{d_t\\}$ satisfies $d_{t+1} = \\phi_0 + \\phi_1 d_t + \\phi_2 d_{t-1} + z_t $, where $z_{t} = \\delta_0 + \\delta_1 t$ and $d_0, d_{-1}$ are given. Please map this process into equations (3)-(4) by specifying $A$, $x_t$, and $G$ explicitly. **Please do this analytically and show formulas.**\n",
    "\n",
    "$\\textbf{b. }$ Next, please write a Python program to simulate $\\{d_t\\}_{t=0}^{20}$ when $\\phi_0 = 1.1$, $\\phi_1 = 0.8$, $\\phi_2 = -0.8$, $\\delta_0=0.01$, $\\delta_1=0.2$, $d_0 = d_{-1} = 1$. \n",
    "\n",
    "$\\textbf{c. }$ Please verify that a solution of the infinite set of equations in (2) is $p_t = H x_t + c\\beta^{-t}$, where $H = G(I - \\beta A)^{-1}$ and $c$ is a scalar. **Please do this analytically and show formulas.**\n",
    "\n",
    "<br>"
   ]
  },
  {
   "cell_type": "markdown",
   "id": "5c7f735d-0537-4ec3-9aa9-853bfd115530",
   "metadata": {},
   "source": [
    "##### Solution for Q2(a) -- you may choose to type out your solutions here or on a piece of paper. \n"
   ]
  },
  {
   "cell_type": "code",
   "execution_count": 35,
   "id": "61451754-8e1c-486f-a0ec-bc787d05b202",
   "metadata": {
    "tags": []
   },
   "outputs": [
    {
     "data": {
      "image/png": "[encoded data removed]",
      "text/plain": [
       "<Figure size 640x480 with 1 Axes>"
      ]
     },
     "metadata": {},
     "output_type": "display_data"
    }
   ],
   "source": [
    "# Solution for Q2(b)\n",
    "phi0=1.1\n",
    "phi1=0.8\n",
    "phi2=-0.8\n",
    "sigma0=0.01\n",
    "sigma1=0.2\n",
    "T=20\n",
    "#for loop method\n",
    "dt = np.zeros((T))\n",
    "dt[0]=1\n",
    "dt[1]=1\n",
    "\n",
    "for i in range(2,T):\n",
    "   # print(i)\n",
    "    dt[i]=phi0+phi1*dt[i-1]+phi2*dt[i-2]+sigma0+sigma1*i\n",
    "\n",
    "\n",
    "#plot\n",
    "fig, ax=plt.subplots()\n",
    "ax.plot(range(T),dt)\n",
    "ax.grid()\n",
    "ax.set_xlabel('time',fontsize=15)\n",
    "ax.set_ylabel('$d_t$',fontsize=15)\n",
    "plt.show()\n",
    "\n"
   ]
  },
  {
   "cell_type": "markdown",
   "id": "08fd1dc3-e75a-4826-ac0a-a6a7a8e2ebb5",
   "metadata": {},
   "source": [
    "##### Solution for Q2(c) -- you may choose to type out your solutions here or on a piece of paper. \n",
    "\n"
   ]
  }
 ],
 "metadata": {
  "kernelspec": {
   "display_name": "Python 3 (ipykernel)",
   "language": "python",
   "name": "python3"
  },
  "language_info": {
   "codemirror_mode": {
    "name": "ipython",
    "version": 3
   },
   "file_extension": ".py",
   "mimetype": "text/x-python",
   "name": "python",
   "nbconvert_exporter": "python",
   "pygments_lexer": "ipython3",
   "version": "3.11.7"
  }
 },
 "nbformat": 4,
 "nbformat_minor": 5
}
